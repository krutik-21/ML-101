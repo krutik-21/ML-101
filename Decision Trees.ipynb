{
  "nbformat": 4,
  "nbformat_minor": 0,
  "metadata": {
    "colab": {
      "name": "DecisionTrees.ipynb",
      "version": "0.3.2",
      "provenance": [],
      "collapsed_sections": [],
      "include_colab_link": true
    },
    "kernelspec": {
      "name": "python3",
      "display_name": "Python 3"
    }
  },
  "cells": [
    {
      "cell_type": "markdown",
      "metadata": {
        "id": "view-in-github",
        "colab_type": "text"
      },
      "source": [
        "<a href=\"https://colab.research.google.com/github/smlra-kjsce/ML-DL101/blob/master/Decision%20Trees.ipynb\" target=\"_parent\"><img src=\"https://colab.research.google.com/assets/colab-badge.svg\" alt=\"Open In Colab\"/></a>"
      ]
    },
    {
      "cell_type": "markdown",
      "metadata": {
        "id": "I6qKGWQz4i3b",
        "colab_type": "text"
      },
      "source": [
        "# Decision Trees\n",
        "“The possible solutions to a given problem emerge as the leaves of a tree, each node representing a point of deliberation and decision.”\n"
      ]
    },
    {
      "cell_type": "markdown",
      "metadata": {
        "id": "fdeQCp-yHtL7",
        "colab_type": "text"
      },
      "source": [
        "To understand how Decision Trees are like sophisticated \"if-else\", click [here](https://stackoverflow.com/questions/20224526/how-to-extract-the-decision-rules-from-scikit-learn-decision-tree)."
      ]
    },
    {
      "cell_type": "code",
      "metadata": {
        "id": "EYd2O_Lm5BcF",
        "colab_type": "code",
        "colab": {}
      },
      "source": [
        "from sklearn import datasets\n",
        "from sklearn.tree import DecisionTreeClassifier"
      ],
      "execution_count": 0,
      "outputs": []
    },
    {
      "cell_type": "code",
      "metadata": {
        "id": "DdxxbmYG5JyE",
        "colab_type": "code",
        "colab": {}
      },
      "source": [
        "iris = datasets.load_iris()"
      ],
      "execution_count": 0,
      "outputs": []
    },
    {
      "cell_type": "code",
      "metadata": {
        "id": "0HuImXCiaEZK",
        "colab_type": "code",
        "colab": {}
      },
      "source": [
        "x_setosa = iris['data'][:50, (2)]\n",
        "y_setosa = iris['data'][:50, (3)]\n",
        "x_versicolor = iris['data'][50:100, (2)]\n",
        "y_versicolor = iris['data'][50:100, (3)]\n",
        "x_virginica = iris['data'][100:150, (2)]\n",
        "y_virginica = iris['data'][100:150, (3)]\n"
      ],
      "execution_count": 0,
      "outputs": []
    },
    {
      "cell_type": "code",
      "metadata": {
        "id": "mlOnK2fMcaoo",
        "colab_type": "code",
        "outputId": "a3bc127a-eb2f-412e-e82c-664afbfcadbc",
        "colab": {
          "base_uri": "https://localhost:8080/",
          "height": 302
        }
      },
      "source": [
        "import matplotlib.pyplot as plt\n",
        "\n",
        "plt.xlabel('petal_length')\n",
        "plt.ylabel('petal_width')\n",
        "plt.plot(x_setosa,y_setosa, 'ro') #plotting setosa flower\n",
        "plt.plot(x_versicolor,y_versicolor, 'go')  #plotting versicolor flower\n",
        "plt.plot(x_virginica,y_virginica, 'yo')"
      ],
      "execution_count": 0,
      "outputs": [
        {
          "output_type": "execute_result",
          "data": {
            "text/plain": [
              "[<matplotlib.lines.Line2D at 0x7f997e46fdd8>]"
            ]
          },
          "metadata": {
            "tags": []
          },
          "execution_count": 5
        },
        {
          "output_type": "display_data",
          "data": {
            "image/png": "[encoded data removed]",
            "text/plain": [
              "<Figure size 432x288 with 1 Axes>"
            ]
          },
          "metadata": {
            "tags": []
          }
        }
      ]
    },
    {
      "cell_type": "code",
      "metadata": {
        "id": "6eb3gp-qgLJy",
        "colab_type": "code",
        "outputId": "c3de0087-b15f-4025-a73b-8fae326e2184",
        "colab": {
          "base_uri": "https://localhost:8080/",
          "height": 35
        }
      },
      "source": [
        "iris.feature_names[2:]"
      ],
      "execution_count": 0,
      "outputs": [
        {
          "output_type": "execute_result",
          "data": {
            "text/plain": [
              "['petal length (cm)', 'petal width (cm)']"
            ]
          },
          "metadata": {
            "tags": []
          },
          "execution_count": 6
        }
      ]
    },
    {
      "cell_type": "code",
      "metadata": {
        "id": "gtKZzGge5OxQ",
        "colab_type": "code",
        "colab": {}
      },
      "source": [
        "X = iris.data[:,2:]\n",
        "y = iris.target"
      ],
      "execution_count": 0,
      "outputs": []
    },
    {
      "cell_type": "code",
      "metadata": {
        "id": "APiN_J_-5cL7",
        "colab_type": "code",
        "outputId": "f3e6ee8d-6b30-4a6b-c97a-3c6393472a57",
        "colab": {
          "base_uri": "https://localhost:8080/",
          "height": 126
        }
      },
      "source": [
        "tree_clf = DecisionTreeClassifier(max_depth=2)\n",
        "tree_clf.fit(X, y)"
      ],
      "execution_count": 0,
      "outputs": [
        {
          "output_type": "execute_result",
          "data": {
            "text/plain": [
              "DecisionTreeClassifier(class_weight=None, criterion='gini', max_depth=2,\n",
              "                       max_features=None, max_leaf_nodes=None,\n",
              "                       min_impurity_decrease=0.0, min_impurity_split=None,\n",
              "                       min_samples_leaf=1, min_samples_split=2,\n",
              "                       min_weight_fraction_leaf=0.0, presort=False,\n",
              "                       random_state=None, splitter='best')"
            ]
          },
          "metadata": {
            "tags": []
          },
          "execution_count": 8
        }
      ]
    },
    {
      "cell_type": "code",
      "metadata": {
        "id": "5VbZ10hh5tWv",
        "colab_type": "code",
        "colab": {}
      },
      "source": [
        "from sklearn.tree import export_graphviz\n",
        "import pydotplus\n",
        "from PIL import Image\n",
        "import os\n",
        "\n",
        "dot_data = export_graphviz(tree_clf, feature_names=iris.feature_names[2:],class_names=iris.target_names,rounded=True,filled=True)\n",
        "graph = pydotplus.graph_from_dot_data(dot_data)\n",
        "\n",
        "from google.colab import drive\n",
        "drive.mount('/content/drive')\n",
        "\n",
        "#os.chdir(\"/drive/My Drive\")\n",
        "graph.write_png(\"iris.png\")\n",
        "\n",
        "\n",
        "print(os.getcwd())\n",
        "print( os.listdir() )"
      ],
      "execution_count": 0,
      "outputs": []
    },
    {
      "cell_type": "code",
      "metadata": {
        "id": "mGU24FRG6TGB",
        "colab_type": "code",
        "colab": {}
      },
      "source": [
        "from google.colab import files\n",
        "files.download( \"iris.png\" )  "
      ],
      "execution_count": 0,
      "outputs": []
    },
    {
      "cell_type": "markdown",
      "metadata": {
        "id": "INVnLTQ7BuoZ",
        "colab_type": "text"
      },
      "source": [
        "<figure>\n",
        "<center>\n",
        "<img src='https://drive.google.com/uc?id=1clWhVpjxGMbDfxN47ApMfWmnn4h1c_a3'/>\n",
        "  </center>\n",
        "  <center><figcaption><b>Iris Decision Tree</b></figcaption></center>\n",
        "</figure>"
      ]
    },
    {
      "cell_type": "code",
      "metadata": {
        "id": "X_pbMqGy7N4h",
        "colab_type": "code",
        "outputId": "e12fc671-6c66-4d13-a4d9-396a3535ff23",
        "colab": {
          "base_uri": "https://localhost:8080/",
          "height": 302
        }
      },
      "source": [
        "plt.xlabel('petal_length')\n",
        "plt.ylabel('petal_width')\n",
        "plt.plot(x_setosa,y_setosa, 'ro') #plotting setosa flower\n",
        "plt.plot(x_versicolor,y_versicolor, 'go')  #plotting versicolor flower\n",
        "plt.plot(x_virginica,y_virginica, 'yo')\n",
        "plt.plot([0,7], [0.8, 0.8], 'k-', lw=2)\n",
        "plt.plot([0,7], [1.75, 1.75], 'k-', lw=2)"
      ],
      "execution_count": 0,
      "outputs": [
        {
          "output_type": "execute_result",
          "data": {
            "text/plain": [
              "[<matplotlib.lines.Line2D at 0x7f26ea718400>]"
            ]
          },
          "metadata": {
            "tags": []
          },
          "execution_count": 37
        },
        {
          "output_type": "display_data",
          "data": {
            "image/png": "[encoded data removed]",
            "text/plain": [
              "<Figure size 432x288 with 1 Axes>"
            ]
          },
          "metadata": {
            "tags": []
          }
        }
      ]
    },
    {
      "cell_type": "markdown",
      "metadata": {
        "id": "5MHZUVvakhGk",
        "colab_type": "text"
      },
      "source": [
        "# Gini Value\n",
        "<figure>\n",
        "<center>\n",
        "<img src='https://drive.google.com/uc?id=1Lc3WThnirb-7s6ZOK67R7BVl9TXxjWS7'/>\n",
        "  </center>\n",
        "  <center><figcaption><b>Gini </b></figcaption></center>\n",
        "</figure>"
      ]
    },
    {
      "cell_type": "markdown",
      "metadata": {
        "id": "a6A2TSPmkhpb",
        "colab_type": "text"
      },
      "source": [
        "# Cost Function of CART Algorithm\n",
        "<figure>\n",
        "<center>\n",
        "<img src='https://drive.google.com/uc?id=1Lec6EMQCfcwWd1sm6KIyQE4wfkRJOa_D'/>\n",
        "  </center>\n",
        "  <center><figcaption><b></b></figcaption></center>\n",
        "</figure>"
      ]
    },
    {
      "cell_type": "markdown",
      "metadata": {
        "id": "CfzjlbiDkSJ9",
        "colab_type": "text"
      },
      "source": [
        "# Task for Students\n",
        "1. Look into Decision Trees for Regression. \n",
        "2. Explore Random Forests Algorithm."
      ]
    },
    {
      "cell_type": "code",
      "metadata": {
        "id": "ZYmCau5_FEjX",
        "colab_type": "code",
        "outputId": "012d972a-436f-4de9-a0dd-1049c4c5bed7",
        "colab": {
          "base_uri": "https://localhost:8080/",
          "height": 342
        }
      },
      "source": [
        "import numpy as np\n",
        "import matplotlib.pyplot as plt\n",
        "from math import log\n",
        "\n",
        "x = np.array([i/100 for i in range(100)])\n",
        "gini = 1-((x)**2+(1-x)**2)\n",
        "entropy = -x*np.log(x)-(1-x)*np.log(1-x)\n",
        "plt.plot(x, gini)\n",
        "plt.plot(x, entropy)\n",
        "plt.legend(['gini','entropy'])\n",
        "plt.show()\n"
      ],
      "execution_count": 3,
      "outputs": [
        {
          "output_type": "stream",
          "text": [
            "/usr/local/lib/python3.6/dist-packages/ipykernel_launcher.py:7: RuntimeWarning: divide by zero encountered in log\n",
            "  import sys\n",
            "/usr/local/lib/python3.6/dist-packages/ipykernel_launcher.py:7: RuntimeWarning: invalid value encountered in multiply\n",
            "  import sys\n"
          ],
          "name": "stderr"
        },
        {
          "output_type": "display_data",
          "data": {
            "image/png": "[encoded data removed]",
            "text/plain": [
              "<Figure size 432x288 with 1 Axes>"
            ]
          },
          "metadata": {
            "tags": []
          }
        }
      ]
    }
  ]
}